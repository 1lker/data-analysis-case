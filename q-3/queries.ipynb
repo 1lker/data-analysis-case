{
 "cells": [
  {
   "cell_type": "markdown",
   "metadata": {},
   "source": [
    "# 1-Day Retention Rate"
   ]
  },
  {
   "cell_type": "code",
   "execution_count": 28,
   "metadata": {},
   "outputs": [
    {
     "name": "stdout",
     "output_type": "stream",
     "text": [
      "\n",
      "    COUNT(DISTINCT CASE \n",
      "        WHEN DATE_DIFF(event_date, first_event_date) = 1 THEN user_id \n",
      "        ELSE NULL \n",
      "    END) /\n",
      "    COUNT(DISTINCT CASE \n",
      "        WHEN DATE_DIFF(CURRENT_DATE(), first_event_date) >= 1 THEN user_id \n",
      "        ELSE NULL \n",
      "    END)\n",
      "\n"
     ]
    }
   ],
   "source": [
    "sql_query = \"\"\"\n",
    "    COUNT(DISTINCT CASE \n",
    "        WHEN DATE_DIFF(event_date, first_event_date) = 1 THEN user_id \n",
    "        ELSE NULL \n",
    "    END) /\n",
    "    COUNT(DISTINCT CASE \n",
    "        WHEN DATE_DIFF(CURRENT_DATE(), first_event_date) >= 1 THEN user_id \n",
    "        ELSE NULL \n",
    "    END)\n",
    "\"\"\"\n",
    "\n",
    "print(sql_query)\n"
   ]
  },
  {
   "cell_type": "markdown",
   "metadata": {},
   "source": [
    "# 7-Day Retention Rate"
   ]
  },
  {
   "cell_type": "code",
   "execution_count": 29,
   "metadata": {},
   "outputs": [
    {
     "name": "stdout",
     "output_type": "stream",
     "text": [
      "\n",
      "    COUNT_DISTINCT(\n",
      "        CASE \n",
      "            WHEN DATE_DIFF(event_date, first_event_date) = 7 THEN user_id \n",
      "            ELSE NULL \n",
      "        END\n",
      "        ) /\n",
      "        COUNT_DISTINCT(\n",
      "        CASE \n",
      "            WHEN DATE_DIFF(CURRENT_DATE(), first_event_date) >= 7 THEN user_id \n",
      "            ELSE NULL \n",
      "        END\n",
      "    )\n",
      "\n"
     ]
    }
   ],
   "source": [
    "query = \"\"\"\n",
    "    COUNT_DISTINCT(\n",
    "        CASE \n",
    "            WHEN DATE_DIFF(event_date, first_event_date) = 7 THEN user_id \n",
    "            ELSE NULL \n",
    "        END\n",
    "        ) /\n",
    "        COUNT_DISTINCT(\n",
    "        CASE \n",
    "            WHEN DATE_DIFF(CURRENT_DATE(), first_event_date) >= 7 THEN user_id \n",
    "            ELSE NULL \n",
    "        END\n",
    "    )\n",
    "\"\"\"\n",
    "\n",
    "print(query)"
   ]
  },
  {
   "cell_type": "markdown",
   "metadata": {},
   "source": [
    "# 30-Day Retention Rate"
   ]
  },
  {
   "cell_type": "code",
   "execution_count": 30,
   "metadata": {},
   "outputs": [
    {
     "name": "stdout",
     "output_type": "stream",
     "text": [
      "\n",
      "    COUNT_DISTINCT(\n",
      "        CASE \n",
      "            WHEN DATE_DIFF(event_date, first_event_date) = 30 THEN user_id \n",
      "            ELSE NULL \n",
      "        END\n",
      "        ) /\n",
      "        COUNT_DISTINCT(\n",
      "        CASE \n",
      "            WHEN DATE_DIFF(CURRENT_DATE(), first_event_date) >= 30 THEN user_id \n",
      "            ELSE NULL \n",
      "        END\n",
      "    )\n",
      "\n"
     ]
    }
   ],
   "source": [
    "query = \"\"\"\n",
    "    COUNT_DISTINCT(\n",
    "        CASE \n",
    "            WHEN DATE_DIFF(event_date, first_event_date) = 30 THEN user_id \n",
    "            ELSE NULL \n",
    "        END\n",
    "        ) /\n",
    "        COUNT_DISTINCT(\n",
    "        CASE \n",
    "            WHEN DATE_DIFF(CURRENT_DATE(), first_event_date) >= 30 THEN user_id \n",
    "            ELSE NULL \n",
    "        END\n",
    "    )\n",
    "\"\"\"\n",
    "\n",
    "print(query)"
   ]
  },
  {
   "cell_type": "markdown",
   "metadata": {},
   "source": [
    "# ARPPU (Average Revenue Per Paying User)"
   ]
  },
  {
   "cell_type": "code",
   "execution_count": 31,
   "metadata": {},
   "outputs": [
    {
     "name": "stdout",
     "output_type": "stream",
     "text": [
      "\n",
      "    SUM(CAST(revenue AS NUMBER)) \n",
      "        / \n",
      "    COUNT_DISTINCT(\n",
      "        IF(\n",
      "            CAST(revenue AS NUMBER) > 0,\n",
      "            user_id, \n",
      "            NULL\n",
      "        )\n",
      "    )\n",
      "\n"
     ]
    }
   ],
   "source": [
    "query = \"\"\"\n",
    "    SUM(CAST(revenue AS NUMBER)) \n",
    "        / \n",
    "    COUNT_DISTINCT(\n",
    "        IF(\n",
    "            CAST(revenue AS NUMBER) > 0,\n",
    "            user_id, \n",
    "            NULL\n",
    "        )\n",
    "    )\n",
    "\"\"\"\n",
    "\n",
    "print(query)"
   ]
  },
  {
   "cell_type": "markdown",
   "metadata": {},
   "source": [
    "# ARPU (Average Revenue Per User)"
   ]
  },
  {
   "cell_type": "code",
   "execution_count": 32,
   "metadata": {},
   "outputs": [
    {
     "name": "stdout",
     "output_type": "stream",
     "text": [
      "\n",
      "    SUM(CAST(revenue AS NUMBER))\n",
      "        /\n",
      "    COUNT_DISTINCT(\n",
      "        user_id\n",
      "    )\n",
      "\n"
     ]
    }
   ],
   "source": [
    "query = \"\"\"\n",
    "    SUM(CAST(revenue AS NUMBER))\n",
    "        /\n",
    "    COUNT_DISTINCT(\n",
    "        user_id\n",
    "    )\n",
    "\"\"\"\n",
    "\n",
    "print(query)"
   ]
  },
  {
   "cell_type": "markdown",
   "metadata": {},
   "source": [
    "# Average Daily Event Count"
   ]
  },
  {
   "cell_type": "code",
   "execution_count": 33,
   "metadata": {},
   "outputs": [
    {
     "name": "stdout",
     "output_type": "stream",
     "text": [
      "\n",
      "    COUNT(event_name) / COUNT_DISTINCT(event_date)\n",
      "\n"
     ]
    }
   ],
   "source": [
    "query = \"\"\"\n",
    "    COUNT(event_name) / COUNT_DISTINCT(event_date)\n",
    "\"\"\"\n",
    "\n",
    "print(query)"
   ]
  },
  {
   "cell_type": "markdown",
   "metadata": {},
   "source": [
    "# Average Session Duration"
   ]
  },
  {
   "cell_type": "code",
   "execution_count": 34,
   "metadata": {},
   "outputs": [
    {
     "name": "stdout",
     "output_type": "stream",
     "text": [
      "\n",
      "    SUM(\n",
      "        IF(\n",
      "            event_name = \"app_close\", \n",
      "            event_time, \n",
      "            NULL\n",
      "        )\n",
      "    ) \n",
      "        -\n",
      "    SUM(\n",
      "        IF(\n",
      "            event_name = \"app_launch\", \n",
      "            event_time, \n",
      "            NULL\n",
      "        )\n",
      "    ) \n",
      "        /\n",
      "    COUNT_DISTINCT(\n",
      "        CONCAT(user_id, CAST(event_date AS STRING))\n",
      "    )\n",
      "\n"
     ]
    }
   ],
   "source": [
    "query = \"\"\"\n",
    "    SUM(\n",
    "        IF(\n",
    "            event_name = \"app_close\", \n",
    "            event_time, \n",
    "            NULL\n",
    "        )\n",
    "    ) \n",
    "        -\n",
    "    SUM(\n",
    "        IF(\n",
    "            event_name = \"app_launch\", \n",
    "            event_time, \n",
    "            NULL\n",
    "        )\n",
    "    ) \n",
    "        /\n",
    "    COUNT_DISTINCT(\n",
    "        CONCAT(user_id, CAST(event_date AS STRING))\n",
    "    )\n",
    "\"\"\"\n",
    "\n",
    "print(query)"
   ]
  },
  {
   "cell_type": "markdown",
   "metadata": {},
   "source": [
    "# Churn Rate"
   ]
  },
  {
   "cell_type": "code",
   "execution_count": 35,
   "metadata": {},
   "outputs": [
    {
     "name": "stdout",
     "output_type": "stream",
     "text": [
      "\n",
      "    1 - (\n",
      "        COUNT_DISTINCT(\n",
      "            IF(\n",
      "                DATE_DIFF(CURRENT_DATE(), event_date) <= 30, \n",
      "                user_id, \n",
      "                NULL\n",
      "            )\n",
      "        ) \n",
      "            / \n",
      "        COUNT_DISTINCT(\n",
      "            IF(\n",
      "                DATE_DIFF(CURRENT_DATE(), first_event_date) > 30 \n",
      "                    AND DATE_DIFF(CURRENT_DATE(), first_event_date) <= 60, \n",
      "                user_id, \n",
      "                NULL\n",
      "            )\n",
      "        )\n",
      "    )\n",
      "\n"
     ]
    }
   ],
   "source": [
    "query = \"\"\"\n",
    "    1 - (\n",
    "        COUNT_DISTINCT(\n",
    "            IF(\n",
    "                DATE_DIFF(CURRENT_DATE(), event_date) <= 30, \n",
    "                user_id, \n",
    "                NULL\n",
    "            )\n",
    "        ) \n",
    "            / \n",
    "        COUNT_DISTINCT(\n",
    "            IF(\n",
    "                DATE_DIFF(CURRENT_DATE(), first_event_date) > 30 \n",
    "                    AND DATE_DIFF(CURRENT_DATE(), first_event_date) <= 60, \n",
    "                user_id, \n",
    "                NULL\n",
    "            )\n",
    "        )\n",
    "    )\n",
    "\"\"\"\n",
    "\n",
    "print(query)"
   ]
  },
  {
   "cell_type": "markdown",
   "metadata": {},
   "source": [
    "# Conversion Rate"
   ]
  },
  {
   "cell_type": "code",
   "execution_count": 36,
   "metadata": {},
   "outputs": [
    {
     "name": "stdout",
     "output_type": "stream",
     "text": [
      "\n",
      "    COUNT_DISTINCT(\n",
      "        IF(\n",
      "            CAST(revenue AS NUMBER) > 0, \n",
      "            user_id, \n",
      "            NULL\n",
      "        )\n",
      "    ) \n",
      "        /\n",
      "    COUNT_DISTINCT(\n",
      "        user_id\n",
      "    )\n",
      "\n"
     ]
    }
   ],
   "source": [
    "query = \"\"\"\n",
    "    COUNT_DISTINCT(\n",
    "        IF(\n",
    "            CAST(revenue AS NUMBER) > 0, \n",
    "            user_id, \n",
    "            NULL\n",
    "        )\n",
    "    ) \n",
    "        /\n",
    "    COUNT_DISTINCT(\n",
    "        user_id\n",
    "    )\n",
    "\"\"\"\n",
    "\n",
    "print(query)"
   ]
  },
  {
   "cell_type": "markdown",
   "metadata": {},
   "source": [
    "# Customer Lifetime Value (LTV)"
   ]
  },
  {
   "cell_type": "code",
   "execution_count": 37,
   "metadata": {},
   "outputs": [
    {
     "name": "stdout",
     "output_type": "stream",
     "text": [
      "\n",
      "    (SUM(CAST(revenue AS NUMBER)) / COUNT_DISTINCT(IF(CAST(revenue AS NUMBER) > 0, user_id, NULL)))\n",
      "        *\n",
      "    (1 / (1 - (COUNT_DISTINCT(IF(DATE_DIFF(CURRENT_DATE(), event_date) <= 30 AND CAST(revenue AS NUMBER) > 0, user_id, NULL)) / COUNT_DISTINCT(IF(CAST(revenue AS NUMBER) > 0, user_id, NULL))))\n",
      "\n"
     ]
    }
   ],
   "source": [
    "query = \"\"\"\n",
    "    (SUM(CAST(revenue AS NUMBER)) / COUNT_DISTINCT(IF(CAST(revenue AS NUMBER) > 0, user_id, NULL)))\n",
    "        *\n",
    "    (1 / (1 - (COUNT_DISTINCT(IF(DATE_DIFF(CURRENT_DATE(), event_date) <= 30 AND CAST(revenue AS NUMBER) > 0, user_id, NULL)) / COUNT_DISTINCT(IF(CAST(revenue AS NUMBER) > 0, user_id, NULL))))\n",
    "\"\"\"\n",
    "\n",
    "print(query)\n"
   ]
  },
  {
   "cell_type": "markdown",
   "metadata": {},
   "source": [
    "# Daily Active Users (DAU)"
   ]
  },
  {
   "cell_type": "code",
   "execution_count": 38,
   "metadata": {},
   "outputs": [
    {
     "name": "stdout",
     "output_type": "stream",
     "text": [
      "\n",
      "    COUNT_DISTINCT(\n",
      "        IF(\n",
      "            event_name = \"app_launch\", \n",
      "            user_id, \n",
      "            NULL\n",
      "        )\n",
      "    )\n",
      "\n"
     ]
    }
   ],
   "source": [
    "query = \"\"\"\n",
    "    COUNT_DISTINCT(\n",
    "        IF(\n",
    "            event_name = \"app_launch\", \n",
    "            user_id, \n",
    "            NULL\n",
    "        )\n",
    "    )\n",
    "\"\"\"\n",
    "\n",
    "print(query)"
   ]
  },
  {
   "cell_type": "markdown",
   "metadata": {},
   "source": [
    "# Daily Revenue"
   ]
  },
  {
   "cell_type": "code",
   "execution_count": 39,
   "metadata": {},
   "outputs": [
    {
     "name": "stdout",
     "output_type": "stream",
     "text": [
      "\n",
      "    SUM(CAST(revenue AS NUMBER)) / COUNT_DISTINCT(event_date)\n",
      "\n"
     ]
    }
   ],
   "source": [
    "query = \"\"\"\n",
    "    SUM(CAST(revenue AS NUMBER)) / COUNT_DISTINCT(event_date)\n",
    "\"\"\"\n",
    "\n",
    "print(query)"
   ]
  },
  {
   "cell_type": "markdown",
   "metadata": {},
   "source": [
    "# Engagement Metrics"
   ]
  },
  {
   "cell_type": "code",
   "execution_count": 40,
   "metadata": {},
   "outputs": [
    {
     "name": "stdout",
     "output_type": "stream",
     "text": [
      "\n",
      "    CASE\n",
      "        WHEN COUNT(event_name) < 3 THEN \"Low Activity\"\n",
      "        WHEN COUNT(event_name) BETWEEN 3 AND 7 THEN \"Medium Activity\"\n",
      "        ELSE \"High Activity\"\n",
      "    END\n",
      "\n"
     ]
    }
   ],
   "source": [
    "query = \"\"\"\n",
    "    CASE\n",
    "        WHEN COUNT(event_name) < 3 THEN \"Low Activity\"\n",
    "        WHEN COUNT(event_name) BETWEEN 3 AND 7 THEN \"Medium Activity\"\n",
    "        ELSE \"High Activity\"\n",
    "    END\n",
    "\"\"\"\n",
    "\n",
    "print(query)"
   ]
  },
  {
   "cell_type": "markdown",
   "metadata": {},
   "source": [
    "# Feature Adoption Rate - {event_name}"
   ]
  },
  {
   "cell_type": "code",
   "execution_count": 41,
   "metadata": {},
   "outputs": [
    {
     "name": "stdout",
     "output_type": "stream",
     "text": [
      "\n",
      "    COUNT_DISTINCT(\n",
      "        IF(\n",
      "            event_name = \"app_launch\", \n",
      "            user_id, \n",
      "            NULL\n",
      "        )\n",
      "    ) \n",
      "        /  \n",
      "    COUNT_DISTINCT(\n",
      "        user_id\n",
      "    )\n",
      "\n"
     ]
    }
   ],
   "source": [
    "query = \"\"\"\n",
    "    COUNT_DISTINCT(\n",
    "        IF(\n",
    "            event_name = \"app_launch\", \n",
    "            user_id, \n",
    "            NULL\n",
    "        )\n",
    "    ) \n",
    "        /  \n",
    "    COUNT_DISTINCT(\n",
    "        user_id\n",
    "    )\n",
    "\"\"\"\n",
    "\n",
    "print(query)"
   ]
  },
  {
   "cell_type": "markdown",
   "metadata": {},
   "source": [
    "# New Users"
   ]
  },
  {
   "cell_type": "code",
   "execution_count": 42,
   "metadata": {},
   "outputs": [
    {
     "name": "stdout",
     "output_type": "stream",
     "text": [
      "\n",
      "    COUNT_DISTINCT(\n",
      "        IF(\n",
      "            event_date = first_event_date, \n",
      "            user_id, \n",
      "            NULL\n",
      "        )\n",
      "    )\n",
      "\n"
     ]
    }
   ],
   "source": [
    "query = \"\"\"\n",
    "    COUNT_DISTINCT(\n",
    "        IF(\n",
    "            event_date = first_event_date, \n",
    "            user_id, \n",
    "            NULL\n",
    "        )\n",
    "    )\n",
    "\"\"\"\n",
    "\n",
    "print(query)"
   ]
  },
  {
   "cell_type": "markdown",
   "metadata": {},
   "source": [
    "# Revenue Growth Rate"
   ]
  },
  {
   "cell_type": "code",
   "execution_count": 43,
   "metadata": {},
   "outputs": [
    {
     "name": "stdout",
     "output_type": "stream",
     "text": [
      "\n",
      "    SUM(\n",
      "        IF(\n",
      "            DATE_DIFF(CURRENT_DATE(), event_date) <= 30, \n",
      "            CAST(revenue AS NUMBER), \n",
      "            NULL\n",
      "        )\n",
      "    ) \n",
      "        -\n",
      "    SUM(\n",
      "        IF(\n",
      "            DATE_DIFF(CURRENT_DATE(), event_date) > 30 \n",
      "                AND DATE_DIFF(CURRENT_DATE(), event_date) <= 60, \n",
      "            CAST(revenue AS NUMBER), \n",
      "            NULL\n",
      "        )\n",
      "    ) \n",
      "        /\n",
      "    SUM(\n",
      "        IF(\n",
      "            DATE_DIFF(CURRENT_DATE(), event_date) > 30 \n",
      "                AND DATE_DIFF(CURRENT_DATE(), event_date) <= 60, \n",
      "            CAST(revenue AS NUMBER), \n",
      "            NULL\n",
      "        )\n",
      "    )\n",
      "\n"
     ]
    }
   ],
   "source": [
    "query = \"\"\"\n",
    "    SUM(\n",
    "        IF(\n",
    "            DATE_DIFF(CURRENT_DATE(), event_date) <= 30, \n",
    "            CAST(revenue AS NUMBER), \n",
    "            NULL\n",
    "        )\n",
    "    ) \n",
    "        -\n",
    "    SUM(\n",
    "        IF(\n",
    "            DATE_DIFF(CURRENT_DATE(), event_date) > 30 \n",
    "                AND DATE_DIFF(CURRENT_DATE(), event_date) <= 60, \n",
    "            CAST(revenue AS NUMBER), \n",
    "            NULL\n",
    "        )\n",
    "    ) \n",
    "        /\n",
    "    SUM(\n",
    "        IF(\n",
    "            DATE_DIFF(CURRENT_DATE(), event_date) > 30 \n",
    "                AND DATE_DIFF(CURRENT_DATE(), event_date) <= 60, \n",
    "            CAST(revenue AS NUMBER), \n",
    "            NULL\n",
    "        )\n",
    "    )\n",
    "\"\"\"\n",
    "\n",
    "print(query)"
   ]
  },
  {
   "cell_type": "markdown",
   "metadata": {},
   "source": [
    "# Stickiness Ratio (DAU/MAU)"
   ]
  },
  {
   "cell_type": "code",
   "execution_count": 44,
   "metadata": {},
   "outputs": [
    {
     "name": "stdout",
     "output_type": "stream",
     "text": [
      "\n",
      "    COUNT_DISTINCT(\n",
      "        IF(\n",
      "            event_name = \"app_launch\", \n",
      "            user_id, \n",
      "            NULL\n",
      "        )\n",
      "    ) \n",
      "        /   \n",
      "    COUNT_DISTINCT(\n",
      "        IF(\n",
      "            DATE_DIFF(event_date, first_event_date) <= 30, \n",
      "            user_id, \n",
      "            NULL\n",
      "        )\n",
      "    )\n",
      "\n"
     ]
    }
   ],
   "source": [
    "query = \"\"\"\n",
    "    COUNT_DISTINCT(\n",
    "        IF(\n",
    "            event_name = \"app_launch\", \n",
    "            user_id, \n",
    "            NULL\n",
    "        )\n",
    "    ) \n",
    "        /   \n",
    "    COUNT_DISTINCT(\n",
    "        IF(\n",
    "            DATE_DIFF(event_date, first_event_date) <= 30, \n",
    "            user_id, \n",
    "            NULL\n",
    "        )\n",
    "    )\n",
    "\"\"\"\n",
    "\n",
    "print(query)\n"
   ]
  },
  {
   "cell_type": "markdown",
   "metadata": {},
   "source": [
    "# Total Revenue"
   ]
  },
  {
   "cell_type": "code",
   "execution_count": 45,
   "metadata": {},
   "outputs": [
    {
     "name": "stdout",
     "output_type": "stream",
     "text": [
      "\n",
      "    SUM(CAST(revenue AS NUMBER))\n",
      "\n"
     ]
    }
   ],
   "source": [
    "query = \"\"\"\n",
    "    SUM(CAST(revenue AS NUMBER))\n",
    "\"\"\"\n",
    "\n",
    "print(query)"
   ]
  },
  {
   "cell_type": "markdown",
   "metadata": {},
   "source": [
    "# User Growth Rate"
   ]
  },
  {
   "cell_type": "code",
   "execution_count": 46,
   "metadata": {},
   "outputs": [
    {
     "name": "stdout",
     "output_type": "stream",
     "text": [
      "\n",
      "    (COUNT_DISTINCT(\n",
      "        IF(\n",
      "            DATE_DIFF(CURRENT_DATE(), first_event_date) <= 30, \n",
      "            user_id, \n",
      "            NULL\n",
      "        )\n",
      "    ) \n",
      "        -\n",
      "    COUNT_DISTINCT(\n",
      "        IF(\n",
      "            DATE_DIFF(CURRENT_DATE(), first_event_date) > 30 \n",
      "                AND DATE_DIFF(CURRENT_DATE(), first_event_date) <= 60, \n",
      "            user_id, \n",
      "            NULL\n",
      "        )\n",
      "    )) \n",
      "        /\n",
      "    COUNT_DISTINCT(\n",
      "        IF(\n",
      "            DATE_DIFF(CURRENT_DATE(), first_event_date) > 30 \n",
      "                AND DATE_DIFF(CURRENT_DATE(), first_event_date) <= 60, \n",
      "            user_id, \n",
      "            NULL\n",
      "        )\n",
      "    )\n",
      "\n"
     ]
    }
   ],
   "source": [
    "query = \"\"\"\n",
    "    (COUNT_DISTINCT(\n",
    "        IF(\n",
    "            DATE_DIFF(CURRENT_DATE(), first_event_date) <= 30, \n",
    "            user_id, \n",
    "            NULL\n",
    "        )\n",
    "    ) \n",
    "        -\n",
    "    COUNT_DISTINCT(\n",
    "        IF(\n",
    "            DATE_DIFF(CURRENT_DATE(), first_event_date) > 30 \n",
    "                AND DATE_DIFF(CURRENT_DATE(), first_event_date) <= 60, \n",
    "            user_id, \n",
    "            NULL\n",
    "        )\n",
    "    )) \n",
    "        /\n",
    "    COUNT_DISTINCT(\n",
    "        IF(\n",
    "            DATE_DIFF(CURRENT_DATE(), first_event_date) > 30 \n",
    "                AND DATE_DIFF(CURRENT_DATE(), first_event_date) <= 60, \n",
    "            user_id, \n",
    "            NULL\n",
    "        )\n",
    "    )\n",
    "\"\"\"\n",
    "\n",
    "print(query)"
   ]
  },
  {
   "cell_type": "markdown",
   "metadata": {},
   "source": [
    "# Viral Coefficient"
   ]
  },
  {
   "cell_type": "code",
   "execution_count": 47,
   "metadata": {},
   "outputs": [
    {
     "name": "stdout",
     "output_type": "stream",
     "text": [
      "\n",
      "    COUNT_DISTINCT(\n",
      "        IF(\n",
      "            source = \"referral\" \n",
      "                AND event_date = first_event_date, \n",
      "            user_id, \n",
      "            NULL\n",
      "        )\n",
      "    ) \n",
      "        /\n",
      "    COUNT_DISTINCT(\n",
      "        user_id\n",
      "    )\n",
      "\n"
     ]
    }
   ],
   "source": [
    "query = \"\"\"\n",
    "    COUNT_DISTINCT(\n",
    "        IF(\n",
    "            source = \"referral\" \n",
    "                AND event_date = first_event_date, \n",
    "            user_id, \n",
    "            NULL\n",
    "        )\n",
    "    ) \n",
    "        /\n",
    "    COUNT_DISTINCT(\n",
    "        user_id\n",
    "    )\n",
    "\"\"\"\n",
    "\n",
    "print(query)"
   ]
  }
 ],
 "metadata": {
  "kernelspec": {
   "display_name": "Python 3 (ipykernel)",
   "language": "python",
   "name": "python3"
  }
 },
 "nbformat": 4,
 "nbformat_minor": 2
}
